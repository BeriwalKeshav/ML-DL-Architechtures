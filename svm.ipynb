{
 "cells": [
  {
   "cell_type": "markdown",
   "metadata": {},
   "source": [
    "# Support Vector Machines"
   ]
  },
  {
   "cell_type": "markdown",
   "metadata": {
    "id": "yVmpHC2M3WQp"
   },
   "source": [
    "## Importing the necessary libraries"
   ]
  },
  {
   "cell_type": "code",
   "execution_count": null,
   "metadata": {
    "id": "R6u7Kw6l27uq"
   },
   "outputs": [],
   "source": [
    "import numpy as np # linear algebra\n",
    "import pandas as pd # data processing, CSV file I/O (e.g. pd.read_csv)\n",
    "import matplotlib.pyplot as plt\n",
    "%matplotlib inline\n",
    "import seaborn as sns\n",
    "from sklearn import metrics\n",
    "from sklearn.metrics import accuracy_score,confusion_matrix,precision_recall_fscore_support,cohen_kappa_score\n",
    "from sklearn.model_selection import validation_curve, train_test_split, GridSearchCV\n",
    "plt.style.use(\"seaborn\")\n",
    "from sklearn.model_selection import train_test_split\n",
    "from sklearn.preprocessing import StandardScaler\n",
    "from sklearn.svm import SVC\n",
    "from sklearn.metrics import classification_report"
   ]
  },
  {
   "cell_type": "markdown",
   "metadata": {
    "id": "pHHficJe3dLR"
   },
   "source": [
    "## Reading the train & test data from MNIST dataset"
   ]
  },
  {
   "cell_type": "code",
   "execution_count": null,
   "metadata": {
    "id": "2SWJ8hf327uy"
   },
   "outputs": [],
   "source": [
    "train_file = pd.read_csv('mnist_train.csv')\n",
    "test_file = pd.read_csv('mnist_test.csv')\n"
   ]
  },
  {
   "cell_type": "code",
   "execution_count": null,
   "metadata": {
    "_cell_guid": "b1076dfc-b9ad-4769-8c92-a6c4dae69d19",
    "_uuid": "8f2839f25d086af736a60e9eeb907d3b93b6e0e5",
    "id": "k1CApBgv27u0"
   },
   "outputs": [],
   "source": [
    "X = train_file.iloc[:,1:].values\n",
    "y = train_file.iloc[:,0].values"
   ]
  },
  {
   "cell_type": "code",
   "execution_count": null,
   "metadata": {
    "id": "xrLe-lJE27u5"
   },
   "outputs": [],
   "source": [
    "test = test_file.iloc[:,1:].values"
   ]
  },
  {
   "cell_type": "markdown",
   "metadata": {
    "id": "WCOARqL13qdM"
   },
   "source": [
    "## Splitting the data for training and testing"
   ]
  },
  {
   "cell_type": "code",
   "execution_count": null,
   "metadata": {
    "id": "Cj-k-SEu27vB"
   },
   "outputs": [],
   "source": [
    "X_train, X_test, y_train, y_test = train_test_split(X, y, test_size = 0.25, random_state = 0)"
   ]
  },
  {
   "cell_type": "markdown",
   "metadata": {
    "id": "xlaLKmdv3w2e"
   },
   "source": [
    "## Standardizing the values for SVM"
   ]
  },
  {
   "cell_type": "code",
   "execution_count": null,
   "metadata": {
    "id": "X10U4C1o27vD"
   },
   "outputs": [],
   "source": [
    "sc_X = StandardScaler()\n",
    "X_train = sc_X.fit_transform(X_train)\n",
    "X_test = sc_X.transform(X_test)\n",
    "sc_test = sc_X.transform(test)"
   ]
  },
  {
   "cell_type": "markdown",
   "metadata": {
    "id": "texVYbHA33bX"
   },
   "source": [
    "## Training using the SVC with a linear kernel"
   ]
  },
  {
   "cell_type": "code",
   "execution_count": null,
   "metadata": {
    "_cell_guid": "79c7e3d0-c299-4dcb-8224-4455121ee9b0",
    "_uuid": "d629ff2d2480ee46fbb7e2d37f6b5fab8052498a",
    "id": "Fcn4u8qo27vG",
    "outputId": "5a878d71-4241-435a-bd05-e6c1f999083f"
   },
   "outputs": [
    {
     "name": "stdout",
     "output_type": "stream",
     "text": [
      "[LibSVM]"
     ]
    },
    {
     "data": {
      "text/plain": [
       "SVC(kernel='linear', random_state=0, verbose=True)"
      ]
     },
     "execution_count": 8,
     "metadata": {
      "tags": []
     },
     "output_type": "execute_result"
    }
   ],
   "source": [
    "classifier = SVC(kernel='linear', random_state=0,verbose = True)\n",
    "classifier.fit(X_train,y_train)\n"
   ]
  },
  {
   "cell_type": "code",
   "execution_count": null,
   "metadata": {
    "id": "wmgtWSC427vK"
   },
   "outputs": [],
   "source": [
    "y_pred = classifier.predict(X_test)\n",
    "\n"
   ]
  },
  {
   "cell_type": "code",
   "execution_count": null,
   "metadata": {
    "id": "rSXOyw4S27vM",
    "outputId": "c3a012af-6240-4287-c5a2-e68c8cc7c273"
   },
   "outputs": [
    {
     "name": "stdout",
     "output_type": "stream",
     "text": [
      "Cohen Kappa score is 0.9138843982185424\n",
      "Accuracy is 0.9225333333333333\n",
      "              precision    recall  f1-score   support\n",
      "\n",
      "           0       0.95      0.97      0.96      1510\n",
      "           1       0.96      0.98      0.97      1728\n",
      "           2       0.89      0.91      0.90      1458\n",
      "           3       0.90      0.90      0.90      1548\n",
      "           4       0.91      0.93      0.92      1434\n",
      "           5       0.88      0.87      0.88      1342\n",
      "           6       0.96      0.95      0.95      1468\n",
      "           7       0.94      0.93      0.93      1535\n",
      "           8       0.91      0.87      0.89      1484\n",
      "           9       0.91      0.90      0.91      1493\n",
      "\n",
      "    accuracy                           0.92     15000\n",
      "   macro avg       0.92      0.92      0.92     15000\n",
      "weighted avg       0.92      0.92      0.92     15000\n",
      "\n"
     ]
    }
   ],
   "source": [
    "print(\"Cohen Kappa score is \" + str(cohen_kappa_score(y_test, y_pred)))\n",
    "print(\"Accuracy is \" + str(metrics.accuracy_score(y_test, y_pred)))\n",
    "print(classification_report(y_test,y_pred))"
   ]
  },
  {
   "cell_type": "code",
   "execution_count": null,
   "metadata": {
    "id": "BiC4i_te27vO"
   },
   "outputs": [],
   "source": [
    "model_acc = classifier.score(X_test, y_test)\n",
    "test_acc = accuracy_score(y_test, y_pred)\n",
    "cm = confusion_matrix(y_test,y_pred)\n"
   ]
  },
  {
   "cell_type": "markdown",
   "metadata": {
    "id": "i5sgRA-s4AQC"
   },
   "source": [
    "## Printing the confusion matrix"
   ]
  },
  {
   "cell_type": "code",
   "execution_count": null,
   "metadata": {
    "id": "KSFkjCrc27vQ",
    "outputId": "86eaea58-1922-447b-9f8f-c4e3dfd394d4"
   },
   "outputs": [
    {
     "name": "stdout",
     "output_type": "stream",
     "text": [
      "\n",
      "SVM Trained Classifier Accuracy:  0.9225333333333333\n",
      "\n",
      "Accuracy of Classifier on Validation Images:  0.9225333333333333\n"
     ]
    },
    {
     "data": {
      "image/png": "[encoded data removed]",
      "text/plain": [
       "<Figure size 648x648 with 2 Axes>"
      ]
     },
     "metadata": {
      "tags": []
     },
     "output_type": "display_data"
    }
   ],
   "source": [
    "print('\\nSVM Trained Classifier Accuracy: ', model_acc)\n",
    "print('\\nAccuracy of Classifier on Validation Images: ',test_acc)\n",
    "plt.figure(figsize=(9,9))\n",
    "plt.imshow(cm, interpolation='nearest', cmap='Pastel1')\n",
    "plt.title('Confusion matrix', size = 15)\n",
    "plt.colorbar()\n",
    "tick_marks = np.arange(10)\n",
    "plt.xticks(tick_marks, [\"0\", \"1\", \"2\", \"3\", \"4\", \"5\", \"6\", \"7\", \"8\", \"9\"], rotation=45, size = 10)\n",
    "plt.yticks(tick_marks, [\"0\", \"1\", \"2\", \"3\", \"4\", \"5\", \"6\", \"7\", \"8\", \"9\"], size = 10)\n",
    "plt.tight_layout()\n",
    "plt.ylabel('Actual label', size = 15)\n",
    "plt.xlabel('Predicted label', size = 15)\n",
    "width, height = cm.shape\n",
    "for x in range(width):\n",
    " for y in range(height):\n",
    "  plt.annotate(str(cm[x][y]), xy=(y, x), \n",
    "  horizontalalignment='center',\n",
    "  verticalalignment='center')\n",
    "plt.savefig(\"SVM - Confusion Matrix\")"
   ]
  }
 ],
 "metadata": {
  "colab": {
   "name": "svmfinal.ipynb",
   "provenance": []
  },
  "kernelspec": {
   "display_name": "Python 3",
   "language": "python",
   "name": "python3"
  },
  "language_info": {
   "codemirror_mode": {
    "name": "ipython",
    "version": 3
   },
   "file_extension": ".py",
   "mimetype": "text/x-python",
   "name": "python",
   "nbconvert_exporter": "python",
   "pygments_lexer": "ipython3",
   "version": "3.7.9"
  }
 },
 "nbformat": 4,
 "nbformat_minor": 1
}
