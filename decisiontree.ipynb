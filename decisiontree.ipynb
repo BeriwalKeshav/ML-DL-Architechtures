{
 "cells": [
  {
   "cell_type": "markdown",
   "metadata": {},
   "source": [
    "# Decision Tree "
   ]
  },
  {
   "cell_type": "markdown",
   "metadata": {
    "id": "j-UUw-Y2q5BR"
   },
   "source": [
    "## Importing all the required librarires"
   ]
  },
  {
   "cell_type": "code",
   "execution_count": null,
   "metadata": {
    "_cell_guid": "b1076dfc-b9ad-4769-8c92-a6c4dae69d19",
    "_uuid": "8f2839f25d086af736a60e9eeb907d3b93b6e0e5",
    "id": "N-rDHzSJqo5N"
   },
   "outputs": [],
   "source": [
    "import numpy as np \n",
    "import pandas as pd\n",
    "import matplotlib.pyplot as plt\n",
    "%matplotlib inline\n",
    "import seaborn as sns\n",
    "from sklearn import metrics\n",
    "from sklearn.metrics import accuracy_score, confusion_matrix, cohen_kappa_score, classification_report\n",
    "from sklearn.model_selection import train_test_split,validation_curve, GridSearchCV\n",
    "from sklearn import tree\n",
    "plt.style.use(\"seaborn\")\n"
   ]
  },
  {
   "cell_type": "markdown",
   "metadata": {
    "id": "msdc3Po8rMpu"
   },
   "source": [
    "## Importing the data files, using pandas"
   ]
  },
  {
   "cell_type": "code",
   "execution_count": null,
   "metadata": {
    "_cell_guid": "79c7e3d0-c299-4dcb-8224-4455121ee9b0",
    "_uuid": "d629ff2d2480ee46fbb7e2d37f6b5fab8052498a",
    "id": "uM3lkos8qo5W",
    "outputId": "4a44a9bd-ffef-4ac4-f3c8-3d8a1e5e496a"
   },
   "outputs": [
    {
     "name": "stdout",
     "output_type": "stream",
     "text": [
      "(60000, 785)\n",
      "(10000, 785)\n"
     ]
    }
   ],
   "source": [
    "df_train = pd.read_csv(\"mnist_train.csv\")\n",
    "df_test = pd.read_csv(\"mnist_test.csv\")\n",
    "\n",
    "print(df_train.shape)\n",
    "print(df_test.shape)"
   ]
  },
  {
   "cell_type": "markdown",
   "metadata": {
    "id": "t-NFuoHvrRMk"
   },
   "source": [
    "## Assigning the global X and y values from the training set"
   ]
  },
  {
   "cell_type": "code",
   "execution_count": null,
   "metadata": {
    "id": "83d7MG6bqo5e",
    "outputId": "6324512e-eb14-440a-8548-d132b0f9ba74"
   },
   "outputs": [
    {
     "name": "stdout",
     "output_type": "stream",
     "text": [
      "60000\n",
      "60000\n"
     ]
    }
   ],
   "source": [
    "X = []\n",
    "y = []\n",
    "for row in df_train.iterrows() :\n",
    "    label = row[1][0] # label (the number visible in the image)\n",
    "    image = list(row[1][1:]) # image information as list, without label\n",
    "    image = np.array(image) / 255\n",
    "    X.append(image)\n",
    "    y.append(label)\n",
    "\n",
    "X = np.array(X)\n",
    "y = np.array(y)\n",
    "print(len(X))\n",
    "print(len(y))"
   ]
  },
  {
   "cell_type": "markdown",
   "metadata": {
    "id": "OF1uBNmOrlno"
   },
   "source": [
    "## Splitting the data into train and test to fit and validate the model"
   ]
  },
  {
   "cell_type": "code",
   "execution_count": null,
   "metadata": {
    "id": "02Akmp7iqo5h",
    "outputId": "fe76ad9d-5c54-4896-fb3b-fe66f2c12f29"
   },
   "outputs": [
    {
     "name": "stdout",
     "output_type": "stream",
     "text": [
      "54000 54000\n",
      "(784,)\n"
     ]
    }
   ],
   "source": [
    "X_train, X_test, y_train, y_test = train_test_split(X, y, test_size=0.1, random_state=42)\n",
    "print(len(X_train), len(y_train))\n",
    "print(X_train[1].shape)\n"
   ]
  },
  {
   "cell_type": "markdown",
   "metadata": {
    "id": "x5D3wu5_rquT"
   },
   "source": [
    "## Assigning the training data to the Decision Tree classifier to learn"
   ]
  },
  {
   "cell_type": "code",
   "execution_count": null,
   "metadata": {
    "id": "WYk4jW3Kqo5m",
    "outputId": "58113a35-adb3-459f-8a57-9dc9dd0710b0"
   },
   "outputs": [
    {
     "name": "stdout",
     "output_type": "stream",
     "text": [
      "[7 3 8 9 3 9 7 7 5 4 2 5 6 4 1 7 4 8 0 7] .....\n",
      "[7 3 8 9 3 9 7 7 5 4 2 5 6 8 1 7 4 8 0 7] .....\n",
      "0.871\n"
     ]
    }
   ],
   "source": [
    "clf = tree.DecisionTreeClassifier()\n",
    "clf = clf.fit(X_train, y_train)\n",
    "y_pred = clf.predict(X_test)\n",
    "print(y_pred[0:20], \".....\")\n",
    "print(y_test[0:20], \".....\")\n",
    "print(metrics.accuracy_score(y_test, y_pred))"
   ]
  },
  {
   "cell_type": "markdown",
   "metadata": {
    "id": "ixhYOLlKrwtB"
   },
   "source": [
    "## Preparing the test set"
   ]
  },
  {
   "cell_type": "code",
   "execution_count": null,
   "metadata": {
    "id": "4D_5lkaRqo5o",
    "outputId": "4ec05ad9-c983-4adb-c6cc-69886aa5f5e7"
   },
   "outputs": [
    {
     "name": "stdout",
     "output_type": "stream",
     "text": [
      "10000\n",
      "10000\n"
     ]
    }
   ],
   "source": [
    "X_new = []\n",
    "for row in df_test.iterrows() :\n",
    "    image = list(row[1][1:])\n",
    "    image = np.array(image) / 255\n",
    "    X_new.append(image)\n",
    "X_new = np.array(X_new)\n",
    "print(len(X_new))\n",
    "print(len(df_test))"
   ]
  },
  {
   "cell_type": "markdown",
   "metadata": {
    "id": "mIm1Bn38r0j1"
   },
   "source": [
    "## Predicting the classifier on the test set"
   ]
  },
  {
   "cell_type": "code",
   "execution_count": null,
   "metadata": {
    "id": "jbAcL371qo5r",
    "outputId": "4e99e691-3704-4093-ff16-088d550f3233"
   },
   "outputs": [
    {
     "name": "stdout",
     "output_type": "stream",
     "text": [
      "[7 2 1 ... 4 5 6]\n"
     ]
    }
   ],
   "source": [
    "y_new_pred = clf.predict(X_new)\n",
    "print(y_new_pred)"
   ]
  },
  {
   "cell_type": "code",
   "execution_count": null,
   "metadata": {
    "id": "W7RQDBMWqo5u",
    "outputId": "d881aa4b-18df-4927-8fdc-831a65a947ab"
   },
   "outputs": [
    {
     "name": "stdout",
     "output_type": "stream",
     "text": [
      "Cohen Kappa score is 0.8566264601239718\n",
      "Accuracy is 0.871\n",
      "              precision    recall  f1-score   support\n",
      "\n",
      "           0       0.93      0.91      0.92       624\n",
      "           1       0.93      0.96      0.94       654\n",
      "           2       0.86      0.87      0.86       572\n",
      "           3       0.83      0.83      0.83       589\n",
      "           4       0.87      0.87      0.87       580\n",
      "           5       0.79      0.83      0.81       551\n",
      "           6       0.89      0.91      0.90       580\n",
      "           7       0.91      0.89      0.90       633\n",
      "           8       0.84      0.79      0.82       585\n",
      "           9       0.84      0.85      0.85       632\n",
      "\n",
      "    accuracy                           0.87      6000\n",
      "   macro avg       0.87      0.87      0.87      6000\n",
      "weighted avg       0.87      0.87      0.87      6000\n",
      "\n"
     ]
    }
   ],
   "source": [
    "print(\"Cohen Kappa score is \" + str(cohen_kappa_score(y_test, y_pred)))\n",
    "print(\"Accuracy is \" + str(metrics.accuracy_score(y_test, y_pred)))\n",
    "print(classification_report(y_test,(y_pred)))"
   ]
  },
  {
   "cell_type": "markdown",
   "metadata": {
    "id": "gApT8KP1r6bw"
   },
   "source": [
    "## Printing confusion matrix "
   ]
  },
  {
   "cell_type": "code",
   "execution_count": null,
   "metadata": {
    "id": "6fX4KaWCqo5x",
    "outputId": "0ec9be2c-d027-4558-8700-0b606a599547"
   },
   "outputs": [
    {
     "data": {
      "image/png": "[encoded data removed]",
      "text/plain": [
       "<Figure size 648x648 with 2 Axes>"
      ]
     },
     "metadata": {
      "tags": []
     },
     "output_type": "display_data"
    }
   ],
   "source": [
    "cm = metrics.confusion_matrix(y_test,y_pred)\n",
    "plt.figure(figsize=(9,9))\n",
    "plt.imshow(cm, interpolation='nearest', cmap='Pastel1')\n",
    "plt.title('Confusion matrix', size = 15)\n",
    "plt.colorbar()\n",
    "tick_marks = np.arange(10)\n",
    "plt.xticks(tick_marks, [\"0\", \"1\", \"2\", \"3\", \"4\", \"5\", \"6\", \"7\", \"8\", \"9\"], rotation=45, size = 10)\n",
    "plt.yticks(tick_marks, [\"0\", \"1\", \"2\", \"3\", \"4\", \"5\", \"6\", \"7\", \"8\", \"9\"], size = 10)\n",
    "plt.tight_layout()\n",
    "plt.ylabel('Actual label', size = 15)\n",
    "plt.xlabel('Predicted label', size = 15)\n",
    "width, height = cm.shape\n",
    "for x in range(width):\n",
    " for y in range(height):\n",
    "  plt.annotate(str(cm[x][y]), xy=(y, x), \n",
    "  horizontalalignment='center',\n",
    "  verticalalignment='center')\n",
    "plt.savefig('Decision Tree -Confusion Matrix')"
   ]
  }
 ],
 "metadata": {
  "colab": {
   "name": "decisiontreemnist (1).ipynb",
   "provenance": []
  },
  "kernelspec": {
   "display_name": "Python 3",
   "language": "python",
   "name": "python3"
  },
  "language_info": {
   "codemirror_mode": {
    "name": "ipython",
    "version": 3
   },
   "file_extension": ".py",
   "mimetype": "text/x-python",
   "name": "python",
   "nbconvert_exporter": "python",
   "pygments_lexer": "ipython3",
   "version": "3.7.9"
  }
 },
 "nbformat": 4,
 "nbformat_minor": 1
}
