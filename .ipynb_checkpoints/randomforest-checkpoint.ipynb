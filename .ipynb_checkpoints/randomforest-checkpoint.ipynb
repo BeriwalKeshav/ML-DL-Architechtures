{
 "cells": [
  {
   "cell_type": "markdown",
   "metadata": {},
   "source": [
    "# Random Forest"
   ]
  },
  {
   "cell_type": "markdown",
   "metadata": {
    "id": "PeVYuTJps9Ut"
   },
   "source": [
    "# Importing the necessary libraries"
   ]
  },
  {
   "cell_type": "code",
   "execution_count": null,
   "metadata": {
    "_cell_guid": "b1076dfc-b9ad-4769-8c92-a6c4dae69d19",
    "_uuid": "8f2839f25d086af736a60e9eeb907d3b93b6e0e5",
    "id": "MM3U8MFzrEdp"
   },
   "outputs": [],
   "source": [
    "import numpy as np # linear algebra\n",
    "import pandas as pd # data processing, CSV file I/O (e.g. pd.read_csv)\n",
    "import matplotlib.pyplot as plt\n",
    "%matplotlib inline\n",
    "import seaborn as sns\n",
    "from sklearn.ensemble import RandomForestClassifier\n",
    "from sklearn import metrics\n",
    "from sklearn.metrics import accuracy_score,confusion_matrix, cohen_kappa_score, classification_report\n",
    "from sklearn.model_selection import validation_curve, GridSearchCV\n",
    "plt.style.use(\"seaborn\")\n"
   ]
  },
  {
   "cell_type": "markdown",
   "metadata": {
    "id": "8GKDIQLptC8c"
   },
   "source": [
    "## Reading the imported MNIST dataset using pandas"
   ]
  },
  {
   "cell_type": "code",
   "execution_count": null,
   "metadata": {
    "_cell_guid": "79c7e3d0-c299-4dcb-8224-4455121ee9b0",
    "_uuid": "d629ff2d2480ee46fbb7e2d37f6b5fab8052498a",
    "id": "zX9fcGsArEd0"
   },
   "outputs": [],
   "source": [
    "train_file = pd.read_csv('mnist_train.csv')\n",
    "test_file = pd.read_csv('mnist_test.csv')"
   ]
  },
  {
   "cell_type": "code",
   "execution_count": null,
   "metadata": {
    "id": "yDZf5l1YrEeH",
    "outputId": "07d6fc4c-f50b-4503-fae8-1144f641767d"
   },
   "outputs": [
    {
     "data": {
      "text/plain": [
       "array([0, 1, 2, 3, 4, 5, 6, 7, 8, 9], dtype=int64)"
      ]
     },
     "execution_count": 5,
     "metadata": {
      "tags": []
     },
     "output_type": "execute_result"
    }
   ],
   "source": [
    "#list of all digits that are going to be predicted\n",
    "np.sort(train_file.label.unique())"
   ]
  },
  {
   "cell_type": "markdown",
   "metadata": {
    "id": "HWZDaFRZ1qw5"
   },
   "source": [
    "## Splitting the dataset, by defining number of samples in train & test data "
   ]
  },
  {
   "cell_type": "code",
   "execution_count": null,
   "metadata": {
    "id": "JiyYY12rrEeL"
   },
   "outputs": [],
   "source": [
    "#define the number of samples for training set and for validation set\n",
    "num_train,num_validation = int(len(train_file)*0.9),int(len(train_file)*0.1)"
   ]
  },
  {
   "cell_type": "markdown",
   "metadata": {
    "id": "H1lvgM1k16RW"
   },
   "source": [
    "## The following lines assign the train and test datasets"
   ]
  },
  {
   "cell_type": "code",
   "execution_count": null,
   "metadata": {
    "id": "hwePM5YGrEeR"
   },
   "outputs": [],
   "source": [
    "#generate training data from train_file\n",
    "x_train,y_train=train_file.iloc[:num_train,1:].values,train_file.iloc[:num_train,0].values"
   ]
  },
  {
   "cell_type": "code",
   "execution_count": null,
   "metadata": {
    "id": "jIr0zdiurEeY"
   },
   "outputs": [],
   "source": [
    "x_validation,y_validation=train_file.iloc[num_train:,1:].values,train_file.iloc[num_train:,0].values"
   ]
  },
  {
   "cell_type": "code",
   "execution_count": null,
   "metadata": {
    "id": "JsZcOcaprEea",
    "outputId": "be1070e5-1c23-4bc4-d79c-2a13dadd4a05"
   },
   "outputs": [
    {
     "name": "stdout",
     "output_type": "stream",
     "text": [
      "(54000, 784)\n",
      "(54000,)\n",
      "(6000, 784)\n",
      "(6000,)\n"
     ]
    }
   ],
   "source": [
    "print(x_train.shape)\n",
    "print(y_train.shape)\n",
    "print(x_validation.shape)\n",
    "print(y_validation.shape)"
   ]
  },
  {
   "cell_type": "markdown",
   "metadata": {
    "id": "8lO5xAUXrEef"
   },
   "source": [
    "## Assigning the Random Forest classifier with the best of parameters"
   ]
  },
  {
   "cell_type": "code",
   "execution_count": null,
   "metadata": {
    "id": "9R1IJ7lrrEek",
    "outputId": "939d2e78-6e08-48f0-827b-d18dab1ce507"
   },
   "outputs": [
    {
     "data": {
      "text/plain": [
       "RandomForestClassifier(max_depth=15, max_features=100, min_samples_split=5,\n",
       "                       n_estimators=50, random_state=0)"
      ]
     },
     "execution_count": 12,
     "metadata": {
      "tags": []
     },
     "output_type": "execute_result"
    }
   ],
   "source": [
    "classifier = RandomForestClassifier(bootstrap=True, class_weight=None, criterion='gini',\n",
    "                       max_depth=15, max_features=100, max_leaf_nodes=None,\n",
    "                       min_impurity_decrease=0.0, min_impurity_split=None,\n",
    "                       min_samples_leaf=1, min_samples_split=5,\n",
    "                       min_weight_fraction_leaf=0.0, n_estimators=50,\n",
    "                       n_jobs=None, oob_score=False, random_state=0, verbose=0,\n",
    "                       warm_start=False)\n",
    "classifier.fit(x_train,y_train)"
   ]
  },
  {
   "cell_type": "markdown",
   "metadata": {
    "id": "Yyn6L_Yv2ef9"
   },
   "source": [
    "## Using the trained classifier to predict the validation data"
   ]
  },
  {
   "cell_type": "code",
   "execution_count": null,
   "metadata": {
    "id": "myfLxj_erEeo"
   },
   "outputs": [],
   "source": [
    "prediction_validation = classifier.predict(x_validation)"
   ]
  },
  {
   "cell_type": "code",
   "execution_count": null,
   "metadata": {
    "id": "tgdlJJu4rEes",
    "outputId": "53a57ee7-c785-4e2b-a384-69d98cec7fd3"
   },
   "outputs": [
    {
     "name": "stdout",
     "output_type": "stream",
     "text": [
      "Validation Accuracy: 0.9708333333333333\n"
     ]
    }
   ],
   "source": [
    "print(\"Validation Accuracy: \" + str(accuracy_score(y_validation,prediction_validation)))"
   ]
  },
  {
   "cell_type": "code",
   "execution_count": null,
   "metadata": {
    "id": "j2g9flHHrEe0"
   },
   "outputs": [],
   "source": [
    "x_test=test_file.iloc[:num_train,1:].values"
   ]
  },
  {
   "cell_type": "code",
   "execution_count": null,
   "metadata": {
    "id": "Tocxi-oIrEe4"
   },
   "outputs": [],
   "source": [
    "#predict test data\n",
    "prediction_test = classifier.predict(x_test)"
   ]
  },
  {
   "cell_type": "code",
   "execution_count": null,
   "metadata": {
    "id": "Ncl7DdmvrEe9",
    "outputId": "a905e22d-62c9-4a27-8f89-f3774b61bbd9"
   },
   "outputs": [
    {
     "name": "stdout",
     "output_type": "stream",
     "text": [
      "Accuracy is 0.9708333333333333\n",
      "Cohen Kappa score is 0.9675823259952789\n",
      "              precision    recall  f1-score   support\n",
      "\n",
      "           0       0.99      0.98      0.98       587\n",
      "           1       0.98      0.99      0.98       630\n",
      "           2       0.97      0.97      0.97       600\n",
      "           3       0.97      0.97      0.97       627\n",
      "           4       0.97      0.96      0.97       595\n",
      "           5       0.97      0.95      0.96       549\n",
      "           6       0.97      0.99      0.98       571\n",
      "           7       0.98      0.98      0.98       668\n",
      "           8       0.96      0.94      0.95       597\n",
      "           9       0.94      0.97      0.96       576\n",
      "\n",
      "    accuracy                           0.97      6000\n",
      "   macro avg       0.97      0.97      0.97      6000\n",
      "weighted avg       0.97      0.97      0.97      6000\n",
      "\n"
     ]
    }
   ],
   "source": [
    "print(\"Accuracy is \" + str(metrics.accuracy_score(y_validation,prediction_validation)))\n",
    "print(\"Cohen Kappa score is \" + str(cohen_kappa_score(y_validation,prediction_validation)))\n",
    "print(classification_report(y_validation, prediction_validation))"
   ]
  },
  {
   "cell_type": "markdown",
   "metadata": {
    "id": "hekIQWH92n8v"
   },
   "source": [
    "## Printing the confusion matrix using the matplotlib & seaborn libraries"
   ]
  },
  {
   "cell_type": "code",
   "execution_count": null,
   "metadata": {
    "id": "Y-iz_r0srEfC"
   },
   "outputs": [],
   "source": [
    "cm = metrics.confusion_matrix(y_validation,prediction_validation)"
   ]
  },
  {
   "cell_type": "code",
   "execution_count": null,
   "metadata": {
    "id": "_ll7In1orEfH",
    "outputId": "89aa20ff-3f04-4baa-882b-ed4fd7738327"
   },
   "outputs": [
    {
     "data": {
      "image/png": "[encoded data removed]",
      "text/plain": [
       "<Figure size 648x648 with 2 Axes>"
      ]
     },
     "metadata": {
      "tags": []
     },
     "output_type": "display_data"
    }
   ],
   "source": [
    "plt.figure(figsize=(9,9))\n",
    "plt.imshow(cm, interpolation='nearest', cmap='Pastel1')\n",
    "plt.title('Confusion matrix', size = 15)\n",
    "plt.colorbar()\n",
    "tick_marks = np.arange(10)\n",
    "plt.xticks(tick_marks, [\"0\", \"1\", \"2\", \"3\", \"4\", \"5\", \"6\", \"7\", \"8\", \"9\"], rotation=45, size = 10)\n",
    "plt.yticks(tick_marks, [\"0\", \"1\", \"2\", \"3\", \"4\", \"5\", \"6\", \"7\", \"8\", \"9\"], size = 10)\n",
    "plt.tight_layout()\n",
    "plt.ylabel('Actual label', size = 15)\n",
    "plt.xlabel('Predicted label', size = 15)\n",
    "width, height = cm.shape\n",
    "for x in range(width):\n",
    " for y in range(height):\n",
    "  plt.annotate(str(cm[x][y]), xy=(y, x), \n",
    "  horizontalalignment='center',\n",
    "  verticalalignment='center')\n",
    "plt.savefig('Random-Forest-Confusion_matrix')"
   ]
  }
 ],
 "metadata": {
  "colab": {
   "name": "randomforest.ipynb",
   "provenance": []
  },
  "kernelspec": {
   "display_name": "Python 3",
   "language": "python",
   "name": "python3"
  },
  "language_info": {
   "codemirror_mode": {
    "name": "ipython",
    "version": 3
   },
   "file_extension": ".py",
   "mimetype": "text/x-python",
   "name": "python",
   "nbconvert_exporter": "python",
   "pygments_lexer": "ipython3",
   "version": "3.8.3"
  }
 },
 "nbformat": 4,
 "nbformat_minor": 1
}
